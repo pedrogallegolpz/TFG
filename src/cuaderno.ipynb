{
 "cells": [
  {
   "cell_type": "code",
   "execution_count": 1,
   "id": "5446fa4c",
   "metadata": {},
   "outputs": [],
   "source": [
    "# from torch.nn.modules.pooling import AdaptiveAvgPool2d\n",
    "import torch\n",
    "from torch import nn\n",
    "from torch.utils.data import DataLoader\n",
    "from torchvision import datasets, models, transforms\n",
    "from torchvision.transforms import ToTensor, Lambda\n",
    "import torchvision.models as models\n",
    "import torchvision\n",
    "\n",
    "import torch.optim as optim\n",
    "from torch.optim import lr_scheduler\n",
    "\n",
    "from sklearn.metrics import accuracy_score\n",
    "\n",
    "\n",
    "import matplotlib.pyplot as plt\n",
    "from matplotlib.colors import LinearSegmentedColormap\n",
    "\n",
    "import numpy as np\n",
    "\n",
    "import os\n",
    "\n",
    "import time\n",
    "import os\n",
    "import copy\n",
    "import math\n",
    "\n",
    "import cv2\n",
    "\n",
    "import seaborn as sns\n",
    "\n",
    "import abc  # For implementing abstract methods\n",
    "\n",
    "import CAM.cam\n",
    "from utils import load_model, load_data, train_cam_models, test_cam_models,  informacion_umbral_mascaras\n",
    "import json\n",
    "import math\n",
    "from torchvision.transforms import Resize"
   ]
  },
  {
   "cell_type": "code",
   "execution_count": 2,
   "id": "9c549825",
   "metadata": {
    "scrolled": false
   },
   "outputs": [
    {
     "name": "stdout",
     "output_type": "stream",
     "text": [
      "DEVICE:  cuda:0\n",
      "Clases:  ['Benign', 'Pathological']\n",
      "Train image size: 6366\n",
      "Validation image size: 1591\n",
      "Test image size: 4158\n",
      "Dataset loaded.\n",
      "\n",
      "\n",
      "\n",
      "\n",
      "\n",
      "\n",
      "DEVICE:  cuda\n",
      "Clases:  ['Benign', 'Pathological']\n",
      "Train image size: 6366\n",
      "Validation image size: 1591\n",
      "Test image size: 4158\n",
      "Dataset loaded.\n",
      "\n",
      "model_cam loaded\n"
     ]
    },
    {
     "name": "stderr",
     "output_type": "stream",
     "text": [
      "C:\\Users\\pedro\\Documents\\TFG\\TFG\\src\\CAM\\cam_abstract.py:124: UserWarning: The use of `x.T` on tensors of dimension other than 2 to reverse their shape is deprecated and it will throw an error in a future release. Consider `x.mT` to transpose batches of matricesor `x.permute(*torch.arange(x.ndim - 1, -1, -1))` to reverse the dimensions of a tensor. (Triggered internally at  C:\\cb\\pytorch_1000000000000\\work\\aten\\src\\ATen\\native\\TensorShape.cpp:2318.)\n",
      "  activations_final = relu(((parameters[class_i]*activations.T).T).sum(axis=0)).to(device)\n"
     ]
    },
    {
     "name": "stdout",
     "output_type": "stream",
     "text": [
      "[39]\n",
      "[39]\n",
      "[39]\n",
      "[79]\n",
      "[119]\n",
      "[119]\n",
      "[159]\n",
      "[159]\n",
      "[159]\n",
      "[None] Mejor valor:  0.5448964251133426  con el umbral:  0.1\n",
      "[None] Área bajo la curva:  0.30592016132805744\n"
     ]
    },
    {
     "data": {
      "image/png": "[encoded data removed]",
      "text/plain": [
       "<Figure size 432x288 with 1 Axes>"
      ]
     },
     "metadata": {
      "needs_background": "light"
     },
     "output_type": "display_data"
    },
    {
     "name": "stdout",
     "output_type": "stream",
     "text": [
      "model_cam_pro loaded\n",
      "[39]\n",
      "[39]\n",
      "[39]\n",
      "[79]\n",
      "[79]\n",
      "[79]\n",
      "[119]\n",
      "[119]\n",
      "[159]\n",
      "[159]\n",
      "[159]\n",
      "[gradcam] Mejor valor:  0.5427787167372811  con el umbral:  0.15000000000000002\n",
      "[gradcam] Área bajo la curva:  0.3153811716586851\n"
     ]
    },
    {
     "data": {
      "image/png": "[encoded data removed]",
      "text/plain": [
       "<Figure size 432x288 with 1 Axes>"
      ]
     },
     "metadata": {
      "needs_background": "light"
     },
     "output_type": "display_data"
    },
    {
     "name": "stdout",
     "output_type": "stream",
     "text": [
      "[39]\n",
      "[39]\n",
      "[39]\n",
      "[79]\n",
      "[79]\n",
      "[119]\n",
      "[159]\n",
      "[159]\n",
      "[gradcampp] Mejor valor:  0.5606949063974921  con el umbral:  0.15000000000000002\n",
      "[gradcampp] Área bajo la curva:  0.3291701556568648\n"
     ]
    },
    {
     "data": {
      "image/png": "[encoded data removed]",
      "text/plain": [
       "<Figure size 432x288 with 1 Axes>"
      ]
     },
     "metadata": {
      "needs_background": "light"
     },
     "output_type": "display_data"
    },
    {
     "name": "stdout",
     "output_type": "stream",
     "text": [
      "[79]\n",
      "[119]\n",
      "[smoothgradcampp] Mejor valor:  0.5551360829187526  con el umbral:  0.15000000000000002\n",
      "[smoothgradcampp] Área bajo la curva:  0.3202763210847404\n"
     ]
    },
    {
     "data": {
      "image/png": "[encoded data removed]",
      "text/plain": [
       "<Figure size 432x288 with 1 Axes>"
      ]
     },
     "metadata": {
      "needs_background": "light"
     },
     "output_type": "display_data"
    },
    {
     "ename": "ValueError",
     "evalue": "attempt to get argmax of an empty sequence",
     "output_type": "error",
     "traceback": [
      "\u001b[1;31m---------------------------------------------------------------------------\u001b[0m",
      "\u001b[1;31mValueError\u001b[0m                                Traceback (most recent call last)",
      "\u001b[1;32m~\\AppData\\Local\\Temp/ipykernel_25208/1192945456.py\u001b[0m in \u001b[0;36m<module>\u001b[1;34m\u001b[0m\n\u001b[0;32m     68\u001b[0m \u001b[1;33m\u001b[0m\u001b[0m\n\u001b[0;32m     69\u001b[0m \u001b[1;33m\u001b[0m\u001b[0m\n\u001b[1;32m---> 70\u001b[1;33m \u001b[0mrun\u001b[0m\u001b[1;33m(\u001b[0m\u001b[1;33m)\u001b[0m\u001b[1;33m\u001b[0m\u001b[1;33m\u001b[0m\u001b[0m\n\u001b[0m",
      "\u001b[1;32m~\\AppData\\Local\\Temp/ipykernel_25208/1192945456.py\u001b[0m in \u001b[0;36mrun\u001b[1;34m()\u001b[0m\n\u001b[0;32m     26\u001b[0m     \"\"\"\n\u001b[0;32m     27\u001b[0m \u001b[1;33m\u001b[0m\u001b[0m\n\u001b[1;32m---> 28\u001b[1;33m     \u001b[0minformacion_umbral_mascaras\u001b[0m\u001b[1;33m(\u001b[0m\u001b[0mpath_guardado_modelos\u001b[0m\u001b[1;33m,\u001b[0m \u001b[0mdevice\u001b[0m\u001b[1;33m=\u001b[0m\u001b[1;34m'cuda'\u001b[0m\u001b[1;33m)\u001b[0m\u001b[1;33m\u001b[0m\u001b[1;33m\u001b[0m\u001b[0m\n\u001b[0m\u001b[0;32m     29\u001b[0m \u001b[1;33m\u001b[0m\u001b[0m\n\u001b[0;32m     30\u001b[0m \u001b[1;33m\u001b[0m\u001b[0m\n",
      "\u001b[1;32m~\\Documents\\TFG\\TFG\\src\\utils.py\u001b[0m in \u001b[0;36minformacion_umbral_mascaras\u001b[1;34m(path_modelos, cam, cam_pro, device)\u001b[0m\n\u001b[0;32m    498\u001b[0m         \u001b[0mnp\u001b[0m\u001b[1;33m.\u001b[0m\u001b[0mappend\u001b[0m\u001b[1;33m(\u001b[0m\u001b[0mareas_bajo_iou\u001b[0m\u001b[1;33m,\u001b[0m \u001b[0marea\u001b[0m\u001b[1;33m)\u001b[0m\u001b[1;33m\u001b[0m\u001b[1;33m\u001b[0m\u001b[0m\n\u001b[0;32m    499\u001b[0m \u001b[1;33m\u001b[0m\u001b[0m\n\u001b[1;32m--> 500\u001b[1;33m     \u001b[0mprint\u001b[0m\u001b[1;33m(\u001b[0m\u001b[1;34m\"La mejor técnica ha sido: \"\u001b[0m\u001b[1;33m,\u001b[0m \u001b[0mtechnics\u001b[0m\u001b[1;33m[\u001b[0m\u001b[0mnp\u001b[0m\u001b[1;33m.\u001b[0m\u001b[0margmax\u001b[0m\u001b[1;33m(\u001b[0m\u001b[0mareas_bajo_iou\u001b[0m\u001b[1;33m)\u001b[0m\u001b[1;33m]\u001b[0m\u001b[1;33m,\u001b[0m \u001b[1;34m\" con un área de: \"\u001b[0m\u001b[1;33m,\u001b[0m \u001b[0mareas_bajo_iou\u001b[0m\u001b[1;33m.\u001b[0m\u001b[0mmax\u001b[0m\u001b[1;33m(\u001b[0m\u001b[1;33m)\u001b[0m\u001b[1;33m)\u001b[0m\u001b[1;33m\u001b[0m\u001b[1;33m\u001b[0m\u001b[0m\n\u001b[0m\u001b[0;32m    501\u001b[0m \u001b[1;33m\u001b[0m\u001b[0m\n\u001b[0;32m    502\u001b[0m \u001b[1;33m\u001b[0m\u001b[0m\n",
      "\u001b[1;32m<__array_function__ internals>\u001b[0m in \u001b[0;36margmax\u001b[1;34m(*args, **kwargs)\u001b[0m\n",
      "\u001b[1;32mC:\\ProgramData\\Anaconda3\\lib\\site-packages\\numpy\\core\\fromnumeric.py\u001b[0m in \u001b[0;36margmax\u001b[1;34m(a, axis, out)\u001b[0m\n\u001b[0;32m   1191\u001b[0m \u001b[1;33m\u001b[0m\u001b[0m\n\u001b[0;32m   1192\u001b[0m     \"\"\"\n\u001b[1;32m-> 1193\u001b[1;33m     \u001b[1;32mreturn\u001b[0m \u001b[0m_wrapfunc\u001b[0m\u001b[1;33m(\u001b[0m\u001b[0ma\u001b[0m\u001b[1;33m,\u001b[0m \u001b[1;34m'argmax'\u001b[0m\u001b[1;33m,\u001b[0m \u001b[0maxis\u001b[0m\u001b[1;33m=\u001b[0m\u001b[0maxis\u001b[0m\u001b[1;33m,\u001b[0m \u001b[0mout\u001b[0m\u001b[1;33m=\u001b[0m\u001b[0mout\u001b[0m\u001b[1;33m)\u001b[0m\u001b[1;33m\u001b[0m\u001b[1;33m\u001b[0m\u001b[0m\n\u001b[0m\u001b[0;32m   1194\u001b[0m \u001b[1;33m\u001b[0m\u001b[0m\n\u001b[0;32m   1195\u001b[0m \u001b[1;33m\u001b[0m\u001b[0m\n",
      "\u001b[1;32mC:\\ProgramData\\Anaconda3\\lib\\site-packages\\numpy\\core\\fromnumeric.py\u001b[0m in \u001b[0;36m_wrapfunc\u001b[1;34m(obj, method, *args, **kwds)\u001b[0m\n\u001b[0;32m     56\u001b[0m \u001b[1;33m\u001b[0m\u001b[0m\n\u001b[0;32m     57\u001b[0m     \u001b[1;32mtry\u001b[0m\u001b[1;33m:\u001b[0m\u001b[1;33m\u001b[0m\u001b[1;33m\u001b[0m\u001b[0m\n\u001b[1;32m---> 58\u001b[1;33m         \u001b[1;32mreturn\u001b[0m \u001b[0mbound\u001b[0m\u001b[1;33m(\u001b[0m\u001b[1;33m*\u001b[0m\u001b[0margs\u001b[0m\u001b[1;33m,\u001b[0m \u001b[1;33m**\u001b[0m\u001b[0mkwds\u001b[0m\u001b[1;33m)\u001b[0m\u001b[1;33m\u001b[0m\u001b[1;33m\u001b[0m\u001b[0m\n\u001b[0m\u001b[0;32m     59\u001b[0m     \u001b[1;32mexcept\u001b[0m \u001b[0mTypeError\u001b[0m\u001b[1;33m:\u001b[0m\u001b[1;33m\u001b[0m\u001b[1;33m\u001b[0m\u001b[0m\n\u001b[0;32m     60\u001b[0m         \u001b[1;31m# A TypeError occurs if the object does have such a method in its\u001b[0m\u001b[1;33m\u001b[0m\u001b[1;33m\u001b[0m\u001b[0m\n",
      "\u001b[1;31mValueError\u001b[0m: attempt to get argmax of an empty sequence"
     ]
    }
   ],
   "source": [
    "\n",
    "# Reset CUDA cache\n",
    "torch.cuda.empty_cache()\n",
    "\n",
    "path_guardado_modelos = 'modelos/'\n",
    "\n",
    "def run():\n",
    "    # List of technics to train\n",
    "    model_classes = ['cam', 'cam_pro']\n",
    "    technics = ['cam','gradcam', 'gradcampp', 'smoothgradcampp']\n",
    "\n",
    "    device = torch.device(\"cuda:0\" if torch.cuda.is_available() else \"cpu\")\n",
    "    print('DEVICE: ', device)\n",
    "\n",
    "    # Read datasets\n",
    "    dataloaders, dataset_sizes = load_data(r'..\\..\\SICAPv1\\299_patch_impar')\n",
    "    print('\\n\\n\\n\\n')\n",
    "\n",
    "    \"\"\"\n",
    "    # Entrenamos\n",
    "    train_cam_models(path_guardado_modelos, epochs=15)\n",
    "    print('\\n\\n\\n\\n')\n",
    "    \n",
    "    # Testeamos \n",
    "    test_cam_models(path_guardado_modelos)\n",
    "    print('\\n\\n\\n\\n')\n",
    "    \"\"\"\n",
    "\n",
    "    informacion_umbral_mascaras(path_guardado_modelos, device='cuda')\n",
    "    \n",
    "    \n",
    "    models_dic = {}\n",
    "    for name in model_classes:\n",
    "        # Load model\n",
    "        models_dic[f'{name}'] = load_model(path_guardado_modelos, name, device)\n",
    "\n",
    "\n",
    "\n",
    "    for i in range(2):\n",
    "        # Cogemos la activación de las capas\n",
    "        x, mask, act_classes=next(iter(dataloaders['test']))\n",
    "\n",
    "        while act_classes[0]!=1:\n",
    "            x, mask, act_classes=next(iter(dataloaders['test']))\n",
    "\n",
    "        print(\"AAAAAAA\", act_classes)\n",
    "        x=x.to(device)\n",
    "        for technic in technics:\n",
    "            act_classes=act_classes.to(device)\n",
    "\n",
    "            if 'cam'==technic:\n",
    "                model_name = model_classes[0]\n",
    "            else:\n",
    "                model_name = model_classes[1]\n",
    "\n",
    "\n",
    "            models_dic[f'{model_name}']['model'].plot_saliency_map(x, \n",
    "                                                                   act_classes[0],\n",
    "                                                                   technic,\n",
    "                                                                   mask,\n",
    "                                                                   class_plot=-1,\n",
    "                                                                   n_noise=20,\n",
    "                                                                   std=0.2,\n",
    "                                                                   device=device)\n",
    "\n",
    "            print(\"#\"*70)\n",
    "            print(\"#\"*70)\n",
    "            print(\"#\"*70)\n",
    "\n",
    "\n",
    "run()"
   ]
  },
  {
   "cell_type": "code",
   "execution_count": null,
   "id": "d4993d18",
   "metadata": {},
   "outputs": [],
   "source": [
    "import utils\n",
    "dtst = datasets.ImageFolder(os.path.join(r'..\\..\\SICAPv1\\299_patch_impar', 'train_mask'), utils.get_data_transforms()['test'],)\n",
    "dloader = torch.utils.data.DataLoader(dtst, batch_size=1, shuffle=True, num_workers=2)\n",
    "\n",
    "print(dtst.__getitem__(0))\n",
    "x,y = next(iter(dloader))\n"
   ]
  },
  {
   "cell_type": "code",
   "execution_count": null,
   "id": "98e230d4",
   "metadata": {},
   "outputs": [],
   "source": [
    "def holi(num):\n",
    "    lista=[]\n",
    "\n",
    "    print('#'*1000)\n",
    "    for i in range(num):\n",
    "        lista.append(torch.ones((200,1000)).to('cuda'))\n",
    "\n",
    "        t = torch.cuda.get_device_properties(0).total_memory\n",
    "        r = torch.cuda.memory_reserved(0)\n",
    "        a = torch.cuda.memory_allocated(0)\n",
    "        f = r-a  # free inside reserved\n",
    "\n",
    "        print(f'total    : {t}')\n",
    "        print(f'used     : {a}')\n",
    "        print(f'free    : {f}\\n\\n')\n",
    "        \n",
    "    #lista = []\n",
    "        \n",
    "for i in range(100):\n",
    "    holi(10)"
   ]
  },
  {
   "cell_type": "code",
   "execution_count": null,
   "id": "cb81cae9",
   "metadata": {},
   "outputs": [],
   "source": [
    "\n",
    "t = torch.cuda.get_device_properties(0).total_memory\n",
    "r = torch.cuda.memory_reserved(0)\n",
    "a = torch.cuda.memory_allocated(0)\n",
    "f = r-a  # free inside reserved\n",
    "\n",
    "print(f'total    : {t}')\n",
    "print(f'used     : {a}')\n",
    "print(f'free    : {f}\\n\\n')\n",
    "torch.cuda.empty_cache()"
   ]
  },
  {
   "cell_type": "code",
   "execution_count": null,
   "id": "3ab40aaa",
   "metadata": {},
   "outputs": [],
   "source": []
  }
 ],
 "metadata": {
  "kernelspec": {
   "display_name": "Python 3 (ipykernel)",
   "language": "python",
   "name": "python3"
  },
  "language_info": {
   "codemirror_mode": {
    "name": "ipython",
    "version": 3
   },
   "file_extension": ".py",
   "mimetype": "text/x-python",
   "name": "python",
   "nbconvert_exporter": "python",
   "pygments_lexer": "ipython3",
   "version": "3.9.7"
  }
 },
 "nbformat": 4,
 "nbformat_minor": 5
}
